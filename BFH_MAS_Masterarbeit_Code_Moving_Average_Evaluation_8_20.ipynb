{
  "nbformat": 4,
  "nbformat_minor": 0,
  "metadata": {
    "kernelspec": {
      "display_name": "Python 3",
      "language": "python",
      "name": "python3"
    },
    "language_info": {
      "codemirror_mode": {
        "name": "ipython",
        "version": 3
      },
      "file_extension": ".py",
      "mimetype": "text/x-python",
      "name": "python",
      "nbconvert_exporter": "python",
      "pygments_lexer": "ipython3",
      "version": "3.8.5"
    },
    "colab": {
      "name": "C__Users_slavi_static_BFH_MAS_Masterarbeit_Code_Moving_Average_Evaluation_8_20.ipynb",
      "provenance": [],
      "collapsed_sections": [],
      "include_colab_link": true
    }
  },
  "cells": [
    {
      "cell_type": "markdown",
      "metadata": {
        "id": "view-in-github",
        "colab_type": "text"
      },
      "source": [
        "<a href=\"https://colab.research.google.com/github/maxkleiner/Bayes_theorem/blob/master/BFH_MAS_Masterarbeit_Code_Moving_Average_Evaluation_8_20.ipynb\" target=\"_parent\"><img src=\"https://colab.research.google.com/assets/colab-badge.svg\" alt=\"Open In Colab\"/></a>"
      ]
    },
    {
      "cell_type": "code",
      "metadata": {
        "id": "vBWFU9sVVQxL"
      },
      "source": [
        "import pandas as pd\n",
        "import numpy as np\n",
        "import matplotlib.pyplot as plt"
      ],
      "execution_count": 10,
      "outputs": []
    },
    {
      "cell_type": "code",
      "metadata": {
        "colab": {
          "base_uri": "https://localhost:8080/"
        },
        "id": "t7jvtsg9VQxZ",
        "outputId": "45bd0a45-8330-4fb6-b8c1-abbda66c59e9"
      },
      "source": [
        "!ls -l\n",
        "df_all = pd.read_excel(r'./sample_data/AMZN.xlsx')"
      ],
      "execution_count": 11,
      "outputs": [
        {
          "output_type": "stream",
          "name": "stdout",
          "text": [
            "total 112\n",
            "-rw-r--r-- 1 root root 107713 Oct 22 14:22 AMZN.xlsx\n",
            "drwxr-xr-x 1 root root   4096 Oct 22 14:22 sample_data\n"
          ]
        }
      ]
    },
    {
      "cell_type": "code",
      "metadata": {
        "id": "wIfJwPpJVQxb"
      },
      "source": [
        "df_amzn = pd.DataFrame()\n",
        "df_amzn['Adj_Close'] = df_all['AMZN']\n",
        "df_amzn['Daily_Return'] = df_amzn['Adj_Close'].diff().shift(-1)"
      ],
      "execution_count": 12,
      "outputs": []
    },
    {
      "cell_type": "code",
      "metadata": {
        "colab": {
          "base_uri": "https://localhost:8080/"
        },
        "id": "28UBCNhIVQxd",
        "outputId": "e75be6b5-8f90-4e39-f717-83670d152937"
      },
      "source": [
        "df_amzn['moving_avg_8'] = df_amzn['Adj_Close'].rolling(8).mean().to_frame()\n",
        "df_amzn['moving_avg_20'] = df_amzn['Adj_Close'].rolling(20).mean().to_frame()\n",
        "df_amzn['signal_buy_8_20'] = np.where(df_amzn['moving_avg_8'] >= df_amzn['moving_avg_20'], 1, 0)\n",
        "df_amzn['signal_sell_8_20'] = np.where(df_amzn['moving_avg_8'] < df_amzn['moving_avg_20'], -1, 0)\n",
        "df_amzn['signal_buy_8_20_profit'] = df_amzn['Daily_Return'] * df_amzn['signal_buy_8_20']\n",
        "df_amzn['signal_sell_8_20_profit'] = df_amzn['Daily_Return'] * df_amzn['signal_sell_8_20']\n",
        "print('{}{}{}{}{}{}{}{}'.format('buy: ', df_amzn['signal_buy_8_20_profit'].sum(),\n",
        "      '\\nsell: ', df_amzn['signal_sell_8_20_profit'].sum(),\n",
        "      '\\nCombined: ', df_amzn['signal_buy_8_20_profit'].sum() + df_amzn['signal_sell_8_20_profit'].sum(),\n",
        "      '\\nhold: ', df_amzn['Daily_Return'].sum()))"
      ],
      "execution_count": 13,
      "outputs": [
        {
          "output_type": "stream",
          "name": "stdout",
          "text": [
            "buy: 1787.5375189781175\n",
            "sell: -1414.8850884437575\n",
            "Combined: 372.65243053436006\n",
            "hold: 3187.985107421875\n"
          ]
        }
      ]
    },
    {
      "cell_type": "markdown",
      "metadata": {
        "id": "w2JCy16ajBIM"
      },
      "source": [
        "Check the corrs"
      ]
    },
    {
      "cell_type": "code",
      "metadata": {
        "colab": {
          "base_uri": "https://localhost:8080/",
          "height": 320
        },
        "id": "-WiAegZhjGi8",
        "outputId": "9e3cd4dd-8d89-4e91-c204-e250a0b81544"
      },
      "source": [
        "df_amzn.corr()"
      ],
      "execution_count": 14,
      "outputs": [
        {
          "output_type": "execute_result",
          "data": {
            "text/html": [
              "<div>\n",
              "<style scoped>\n",
              "    .dataframe tbody tr th:only-of-type {\n",
              "        vertical-align: middle;\n",
              "    }\n",
              "\n",
              "    .dataframe tbody tr th {\n",
              "        vertical-align: top;\n",
              "    }\n",
              "\n",
              "    .dataframe thead th {\n",
              "        text-align: right;\n",
              "    }\n",
              "</style>\n",
              "<table border=\"1\" class=\"dataframe\">\n",
              "  <thead>\n",
              "    <tr style=\"text-align: right;\">\n",
              "      <th></th>\n",
              "      <th>Adj_Close</th>\n",
              "      <th>Daily_Return</th>\n",
              "      <th>moving_avg_8</th>\n",
              "      <th>moving_avg_20</th>\n",
              "      <th>signal_buy_8_20</th>\n",
              "      <th>signal_sell_8_20</th>\n",
              "      <th>signal_buy_8_20_profit</th>\n",
              "      <th>signal_sell_8_20_profit</th>\n",
              "    </tr>\n",
              "  </thead>\n",
              "  <tbody>\n",
              "    <tr>\n",
              "      <th>Adj_Close</th>\n",
              "      <td>1.000000</td>\n",
              "      <td>0.032754</td>\n",
              "      <td>0.999494</td>\n",
              "      <td>0.998715</td>\n",
              "      <td>0.091231</td>\n",
              "      <td>0.087288</td>\n",
              "      <td>0.027132</td>\n",
              "      <td>-0.018809</td>\n",
              "    </tr>\n",
              "    <tr>\n",
              "      <th>Daily_Return</th>\n",
              "      <td>0.032754</td>\n",
              "      <td>1.000000</td>\n",
              "      <td>0.034782</td>\n",
              "      <td>0.035794</td>\n",
              "      <td>-0.001234</td>\n",
              "      <td>-0.001748</td>\n",
              "      <td>0.731645</td>\n",
              "      <td>-0.681106</td>\n",
              "    </tr>\n",
              "    <tr>\n",
              "      <th>moving_avg_8</th>\n",
              "      <td>0.999494</td>\n",
              "      <td>0.034782</td>\n",
              "      <td>1.000000</td>\n",
              "      <td>0.999504</td>\n",
              "      <td>0.086268</td>\n",
              "      <td>0.083761</td>\n",
              "      <td>0.027290</td>\n",
              "      <td>-0.021681</td>\n",
              "    </tr>\n",
              "    <tr>\n",
              "      <th>moving_avg_20</th>\n",
              "      <td>0.998715</td>\n",
              "      <td>0.035794</td>\n",
              "      <td>0.999504</td>\n",
              "      <td>1.000000</td>\n",
              "      <td>0.071610</td>\n",
              "      <td>0.071610</td>\n",
              "      <td>0.027035</td>\n",
              "      <td>-0.023478</td>\n",
              "    </tr>\n",
              "    <tr>\n",
              "      <th>signal_buy_8_20</th>\n",
              "      <td>0.091231</td>\n",
              "      <td>-0.001234</td>\n",
              "      <td>0.086268</td>\n",
              "      <td>0.071610</td>\n",
              "      <td>1.000000</td>\n",
              "      <td>0.992786</td>\n",
              "      <td>0.020447</td>\n",
              "      <td>0.024018</td>\n",
              "    </tr>\n",
              "    <tr>\n",
              "      <th>signal_sell_8_20</th>\n",
              "      <td>0.087288</td>\n",
              "      <td>-0.001748</td>\n",
              "      <td>0.083761</td>\n",
              "      <td>0.071610</td>\n",
              "      <td>0.992786</td>\n",
              "      <td>1.000000</td>\n",
              "      <td>0.020299</td>\n",
              "      <td>0.024193</td>\n",
              "    </tr>\n",
              "    <tr>\n",
              "      <th>signal_buy_8_20_profit</th>\n",
              "      <td>0.027132</td>\n",
              "      <td>0.731645</td>\n",
              "      <td>0.027290</td>\n",
              "      <td>0.027035</td>\n",
              "      <td>0.020447</td>\n",
              "      <td>0.020299</td>\n",
              "      <td>1.000000</td>\n",
              "      <td>0.000491</td>\n",
              "    </tr>\n",
              "    <tr>\n",
              "      <th>signal_sell_8_20_profit</th>\n",
              "      <td>-0.018809</td>\n",
              "      <td>-0.681106</td>\n",
              "      <td>-0.021681</td>\n",
              "      <td>-0.023478</td>\n",
              "      <td>0.024018</td>\n",
              "      <td>0.024193</td>\n",
              "      <td>0.000491</td>\n",
              "      <td>1.000000</td>\n",
              "    </tr>\n",
              "  </tbody>\n",
              "</table>\n",
              "</div>"
            ],
            "text/plain": [
              "                         Adj_Close  ...  signal_sell_8_20_profit\n",
              "Adj_Close                 1.000000  ...                -0.018809\n",
              "Daily_Return              0.032754  ...                -0.681106\n",
              "moving_avg_8              0.999494  ...                -0.021681\n",
              "moving_avg_20             0.998715  ...                -0.023478\n",
              "signal_buy_8_20           0.091231  ...                 0.024018\n",
              "signal_sell_8_20          0.087288  ...                 0.024193\n",
              "signal_buy_8_20_profit    0.027132  ...                 0.000491\n",
              "signal_sell_8_20_profit  -0.018809  ...                 1.000000\n",
              "\n",
              "[8 rows x 8 columns]"
            ]
          },
          "metadata": {},
          "execution_count": 14
        }
      ]
    },
    {
      "cell_type": "code",
      "metadata": {
        "colab": {
          "base_uri": "https://localhost:8080/",
          "height": 283
        },
        "id": "HVxfEB0NjRDN",
        "outputId": "d39f2560-0b13-41b7-b740-ccf52f3c4478"
      },
      "source": [
        "df_amzn.plot.hist()"
      ],
      "execution_count": 15,
      "outputs": [
        {
          "output_type": "execute_result",
          "data": {
            "text/plain": [
              "<matplotlib.axes._subplots.AxesSubplot at 0x7fa4b753e590>"
            ]
          },
          "metadata": {},
          "execution_count": 15
        },
        {
          "output_type": "display_data",
          "data": {
            "image/png": "[encoded data removed]",
            "text/plain": [
              "<Figure size 432x288 with 1 Axes>"
            ]
          },
          "metadata": {
            "needs_background": "light"
          }
        }
      ]
    }
  ]
}