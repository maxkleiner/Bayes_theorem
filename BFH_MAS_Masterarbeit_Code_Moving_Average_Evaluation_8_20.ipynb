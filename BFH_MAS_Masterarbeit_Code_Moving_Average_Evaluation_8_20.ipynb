{
  "nbformat": 4,
  "nbformat_minor": 0,
  "metadata": {
    "kernelspec": {
      "display_name": "Python 3",
      "language": "python",
      "name": "python3"
    },
    "language_info": {
      "codemirror_mode": {
        "name": "ipython",
        "version": 3
      },
      "file_extension": ".py",
      "mimetype": "text/x-python",
      "name": "python",
      "nbconvert_exporter": "python",
      "pygments_lexer": "ipython3",
      "version": "3.8.5"
    },
    "colab": {
      "name": "C__Users_slavi_static_BFH_MAS_Masterarbeit_Code_Moving_Average_Evaluation_8_20.ipynb",
      "provenance": [],
      "collapsed_sections": [],
      "include_colab_link": true
    }
  },
  "cells": [
    {
      "cell_type": "markdown",
      "metadata": {
        "id": "view-in-github",
        "colab_type": "text"
      },
      "source": [
        "<a href=\"https://colab.research.google.com/github/maxkleiner/Bayes_theorem/blob/master/BFH_MAS_Masterarbeit_Code_Moving_Average_Evaluation_8_20.ipynb\" target=\"_parent\"><img src=\"https://colab.research.google.com/assets/colab-badge.svg\" alt=\"Open In Colab\"/></a>"
      ]
    },
    {
      "cell_type": "code",
      "metadata": {
        "id": "vBWFU9sVVQxL"
      },
      "source": [
        "import pandas as pd\n",
        "import numpy as np\n",
        "import matplotlib.pyplot as plt"
      ],
      "execution_count": 1,
      "outputs": []
    },
    {
      "cell_type": "code",
      "metadata": {
        "colab": {
          "base_uri": "https://localhost:8080/"
        },
        "id": "t7jvtsg9VQxZ",
        "outputId": "98f4fee6-d5fb-486a-c9c2-f1b23c462cdb"
      },
      "source": [
        "!ls -l\n",
        "df_all = pd.read_excel(r'./sample_data/AMZN.xlsx')"
      ],
      "execution_count": 6,
      "outputs": [
        {
          "output_type": "stream",
          "name": "stdout",
          "text": [
            "total 112\n",
            "-rw-r--r-- 1 root root 107713 Oct 22 14:22 AMZN.xlsx\n",
            "drwxr-xr-x 1 root root   4096 Oct 22 14:22 sample_data\n"
          ]
        }
      ]
    },
    {
      "cell_type": "code",
      "metadata": {
        "id": "wIfJwPpJVQxb"
      },
      "source": [
        "df_amzn = pd.DataFrame()\n",
        "df_amzn['Adj_Close'] = df_all['AMZN']\n",
        "df_amzn['Daily_Return'] = df_amzn['Adj_Close'].diff().shift(-1)"
      ],
      "execution_count": 7,
      "outputs": []
    },
    {
      "cell_type": "code",
      "metadata": {
        "colab": {
          "base_uri": "https://localhost:8080/"
        },
        "id": "28UBCNhIVQxd",
        "outputId": "310368c2-0b6b-4fb9-946d-f2dc069cf92d"
      },
      "source": [
        "df_amzn['moving_avg_8'] = df_amzn['Adj_Close'].rolling(8).mean().to_frame()\n",
        "df_amzn['moving_avg_20'] = df_amzn['Adj_Close'].rolling(20).mean().to_frame()\n",
        "df_amzn['signal_buy_8_20'] = np.where(df_amzn['moving_avg_8'] >= df_amzn['moving_avg_20'], 1, 0)\n",
        "df_amzn['signal_sell_8_20'] = np.where(df_amzn['moving_avg_8'] < df_amzn['moving_avg_20'], -1, 0)\n",
        "df_amzn['signal_buy_8_20_profit'] = df_amzn['Daily_Return'] * df_amzn['signal_buy_8_20']\n",
        "df_amzn['signal_sell_8_20_profit'] = df_amzn['Daily_Return'] * df_amzn['signal_sell_8_20']\n",
        "print('{}{}{}{}{}{}{}{}'.format('buy: ', df_amzn['signal_buy_8_20_profit'].sum(),\n",
        "      '\\nsell: ', df_amzn['signal_sell_8_20_profit'].sum(),\n",
        "      '\\nCombined: ', df_amzn['signal_buy_8_20_profit'].sum() + df_amzn['signal_sell_8_20_profit'].sum(),\n",
        "      '\\nhold: ', df_amzn['Daily_Return'].sum()))"
      ],
      "execution_count": 9,
      "outputs": [
        {
          "output_type": "stream",
          "name": "stdout",
          "text": [
            "buy: 1787.5375189781175\n",
            "sell: -1414.8850884437575\n",
            "Combined: 372.65243053436006\n",
            "hold: 3187.985107421875\n"
          ]
        }
      ]
    }
  ]
}